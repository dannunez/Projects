{
 "cells": [
  {
   "cell_type": "markdown",
   "metadata": {},
   "source": [
    "# Sentiment Analysis"
   ]
  },
  {
   "cell_type": "markdown",
   "metadata": {},
   "source": [
    "Sentiment analysis refers to the use of natural language processing, text analysis, computational linguistics, and biometrics to systematically identify, extract, quantify, and study affective states and subjective information. The purpose of this notebook is to perform a sentiment analysis on [this dataset from Kaggle](https://www.kaggle.com/lakshmi25npathi/imdb-dataset-of-50k-movie-reviews) which contains 50,000 movie reviews."
   ]
  },
  {
   "cell_type": "markdown",
   "metadata": {},
   "source": [
    "## Import the modules"
   ]
  },
  {
   "cell_type": "code",
   "execution_count": 1,
   "metadata": {},
   "outputs": [],
   "source": [
    "import pandas as pd\n",
    "import numpy as np\n",
    "import matplotlib.pyplot as plt\n",
    "import regex as re\n",
    "from sklearn.preprocessing import LabelEncoder\n",
    "from sklearn.model_selection import train_test_split\n",
    "from sklearn.feature_extraction.text import TfidfVectorizer\n",
    "from sklearn.dummy import DummyClassifier\n",
    "from sklearn.metrics import accuracy_score\n",
    "from sklearn.linear_model import LogisticRegression, SGDClassifier\n",
    "from sklearn.svm import LinearSVC\n",
    "from sklearn.naive_bayes import MultinomialNB\n",
    "from sklearn.model_selection import cross_val_score\n",
    "from wordcloud import WordCloud\n",
    "import tensorflow as tf\n",
    "from tensorflow import keras\n",
    "from keras.models import load_model\n",
    "from keras.regularizers import l2\n",
    "from tensorflow.keras import Sequential\n",
    "from tensorflow.keras import layers\n",
    "from tensorflow.keras.layers import Embedding, Bidirectional, LSTM, Dense, Dropout\n",
    "from tensorflow.keras.preprocessing.text import Tokenizer\n",
    "from tensorflow.keras.preprocessing.sequence import pad_sequences\n",
    "from tensorflow.keras.callbacks import EarlyStopping, ModelCheckpoint"
   ]
  },
  {
   "cell_type": "code",
   "execution_count": null,
   "metadata": {},
   "outputs": [],
   "source": [
    "# Limit GPU memory\n",
    "gpus = tf.config.experimental.list_physical_devices('GPU')\n",
    "\n",
    "# Currently, memory growth needs to be the same across GPUs\n",
    "for gpu in gpus:\n",
    "        tf.config.experimental.set_memory_growth(gpu, True)\n",
    "\n",
    "tf.config.experimental.set_virtual_device_configuration(gpus[0], [tf.config.experimental.VirtualDeviceConfiguration(memory_limit=1024*5)])\n"
   ]
  },
  {
   "cell_type": "markdown",
   "metadata": {},
   "source": [
    "Check the data for any null values. This takes out errors that are related to nan values. A value of false means that there's no null value in the dataset."
   ]
  },
  {
   "cell_type": "code",
   "execution_count": 2,
   "metadata": {},
   "outputs": [
    {
     "data": {
      "text/plain": [
       "False"
      ]
     },
     "execution_count": 2,
     "metadata": {},
     "output_type": "execute_result"
    }
   ],
   "source": [
    "df = pd.read_csv('IMDB Dataset.csv')\n",
    "df.isnull().values.any()"
   ]
  },
  {
   "cell_type": "markdown",
   "metadata": {},
   "source": [
    "## Data distribution\n",
    "Check the distribution of data. Ideally, the distribution of data between classes should be equal. Having a balanced data eliminates the issue of the algorithm forming a bias against the less frequent class. This also allows the use of easily interpretable evaluation metrics like accuracy. The result below shows that the data is evenly split between negative and positive classes."
   ]
  },
  {
   "cell_type": "code",
   "execution_count": 3,
   "metadata": {
    "scrolled": true
   },
   "outputs": [
    {
     "data": {
      "text/html": [
       "<div>\n",
       "<style scoped>\n",
       "    .dataframe tbody tr th:only-of-type {\n",
       "        vertical-align: middle;\n",
       "    }\n",
       "\n",
       "    .dataframe tbody tr th {\n",
       "        vertical-align: top;\n",
       "    }\n",
       "\n",
       "    .dataframe thead th {\n",
       "        text-align: right;\n",
       "    }\n",
       "</style>\n",
       "<table border=\"1\" class=\"dataframe\">\n",
       "  <thead>\n",
       "    <tr style=\"text-align: right;\">\n",
       "      <th></th>\n",
       "      <th>review</th>\n",
       "    </tr>\n",
       "    <tr>\n",
       "      <th>sentiment</th>\n",
       "      <th></th>\n",
       "    </tr>\n",
       "  </thead>\n",
       "  <tbody>\n",
       "    <tr>\n",
       "      <th>negative</th>\n",
       "      <td>25000</td>\n",
       "    </tr>\n",
       "    <tr>\n",
       "      <th>positive</th>\n",
       "      <td>25000</td>\n",
       "    </tr>\n",
       "  </tbody>\n",
       "</table>\n",
       "</div>"
      ],
      "text/plain": [
       "           review\n",
       "sentiment        \n",
       "negative    25000\n",
       "positive    25000"
      ]
     },
     "execution_count": 3,
     "metadata": {},
     "output_type": "execute_result"
    }
   ],
   "source": [
    "data_comp = df.groupby('sentiment').count()\n",
    "data_comp"
   ]
  },
  {
   "source": [
    "Having an equal distribution shows that accuracy is enough as the evaluation metric."
   ],
   "cell_type": "markdown",
   "metadata": {}
  },
  {
   "cell_type": "markdown",
   "metadata": {},
   "source": [
    "#### Create a pie chart for the data distribution"
   ]
  },
  {
   "cell_type": "code",
   "execution_count": 4,
   "metadata": {},
   "outputs": [],
   "source": [
    "def pie_chart(labels, sizes):\n",
    "    explode = (0.01, 0.01)  # only \"explode\" the 2nd slice (i.e. 'Hogs')\n",
    "    plt.style.use('seaborn-muted')\n",
    "    fig1, ax1 = plt.subplots(dpi = 100, figsize = (4, 4))\n",
    "    ax1.pie(sizes, labels=labels, explode = explode, autopct='%1.1f%%', startangle=90)\n",
    "    ax1.axis('equal')  # Equal aspect ratio ensures that pie is drawn as a circle.\n",
    "    plt.title('Data Distribution')\n",
    "    plt.show()"
   ]
  },
  {
   "cell_type": "code",
   "execution_count": 5,
   "metadata": {},
   "outputs": [
    {
     "data": {
      "image/png": "[encoded data removed]",
      "text/plain": [
       "<Figure size 400x400 with 1 Axes>"
      ]
     },
     "metadata": {},
     "output_type": "display_data"
    }
   ],
   "source": [
    "pie_chart(data_comp.index, data_comp['review'])"
   ]
  },
  {
   "source": [
    "### Show review length"
   ],
   "cell_type": "markdown",
   "metadata": {}
  },
  {
   "cell_type": "code",
   "execution_count": null,
   "metadata": {},
   "outputs": [],
   "source": [
    "def review_length(list_of_data):\n",
    "    fig, ax = plt.subplots(figsize = (6, 4), dpi = 100)\n",
    "\n",
    "    box = plt.boxplot(list_of_data, vert = False, patch_artist = True, widths = 0.7, medianprops = {'color': 'black'}, whis = 1.5)\n",
    "    plt.yticks(ticks = [1,2], labels = ['Negative', 'Positive'])\n",
    "    plt.tick_params(axis = 'y', length = 0)\n",
    "    plt.box(on = True)\n",
    "    plt.style.use('seaborn-muted')\n",
    "    plt.title('Review Lengths')\n",
    "    plt.xlabel('Number of characters')\n",
    "\n",
    "    colors = plt.rcParams['axes.prop_cycle'].by_key()['color']\n",
    "    for patch, color in zip(box['boxes'], colors):\n",
    "        patch.set_facecolor(color)\n",
    "    plt.show()"
   ]
  },
  {
   "cell_type": "code",
   "execution_count": null,
   "metadata": {},
   "outputs": [],
   "source": [
    "df['lengths'] = df['review'].apply(len)\n",
    "data = [df['lengths'][df['sentiment'] == 'negative'], df['lengths'][df['sentiment'] == 'positive']]\n",
    "review_length(data)"
   ]
  },
  {
   "cell_type": "code",
   "execution_count": null,
   "metadata": {},
   "outputs": [],
   "source": [
    "df.groupby('sentiment').describe()"
   ]
  },
  {
   "source": [
    "There's no significant difference between the positive and negatives reviews though positive reviews have longer outliers."
   ],
   "cell_type": "markdown",
   "metadata": {}
  },
  {
   "cell_type": "markdown",
   "metadata": {},
   "source": [
    "## Data cleaning\n",
    "This preprocesses the text so that the it can be easily understood by machine learning algorithms. The function 'cleaner' does the preprocessing of each input 'row'."
   ]
  },
  {
   "cell_type": "code",
   "execution_count": null,
   "metadata": {},
   "outputs": [],
   "source": [
    "# Show original dataframe\n",
    "df.head()"
   ]
  },
  {
   "cell_type": "code",
   "execution_count": 6,
   "metadata": {},
   "outputs": [],
   "source": [
    "def cleaner(row):\n",
    "    row = row.lower() # Set all the strings to lowercase\n",
    "    row = re.sub(r'<.+?>', ' ', row) # Remove html tags\n",
    "    row = re.sub(r'\\W+', ' ', row) # Remove special characters\n",
    "    row = re.sub(r'http\\S+|www.\\S+', ' ', row) # Remove links\n",
    "    row = re.sub(r'[^a-zA-Z]', ' ', row) # Remove numbers\n",
    "    row = re.sub(r'\\b[\\w]\\b', '', row) # Remove single characters\n",
    "    row = re.sub(r'\\s+',' ', row) # Replace multiple spaces with single space \n",
    "    return row"
   ]
  },
  {
   "cell_type": "code",
   "execution_count": 7,
   "metadata": {},
   "outputs": [
    {
     "data": {
      "text/html": [
       "<div>\n",
       "<style scoped>\n",
       "    .dataframe tbody tr th:only-of-type {\n",
       "        vertical-align: middle;\n",
       "    }\n",
       "\n",
       "    .dataframe tbody tr th {\n",
       "        vertical-align: top;\n",
       "    }\n",
       "\n",
       "    .dataframe thead th {\n",
       "        text-align: right;\n",
       "    }\n",
       "</style>\n",
       "<table border=\"1\" class=\"dataframe\">\n",
       "  <thead>\n",
       "    <tr style=\"text-align: right;\">\n",
       "      <th></th>\n",
       "      <th>review</th>\n",
       "      <th>sentiment</th>\n",
       "    </tr>\n",
       "  </thead>\n",
       "  <tbody>\n",
       "    <tr>\n",
       "      <th>0</th>\n",
       "      <td>one of the other reviewers has mentioned that ...</td>\n",
       "      <td>positive</td>\n",
       "    </tr>\n",
       "    <tr>\n",
       "      <th>1</th>\n",
       "      <td>a wonderful little production the realism real...</td>\n",
       "      <td>positive</td>\n",
       "    </tr>\n",
       "    <tr>\n",
       "      <th>2</th>\n",
       "      <td>i thought this was a wonderful way to spend ti...</td>\n",
       "      <td>positive</td>\n",
       "    </tr>\n",
       "    <tr>\n",
       "      <th>3</th>\n",
       "      <td>basically there s a family where a little boy ...</td>\n",
       "      <td>negative</td>\n",
       "    </tr>\n",
       "    <tr>\n",
       "      <th>4</th>\n",
       "      <td>petter mattei s love in the time of money is a...</td>\n",
       "      <td>positive</td>\n",
       "    </tr>\n",
       "  </tbody>\n",
       "</table>\n",
       "</div>"
      ],
      "text/plain": [
       "                                              review sentiment\n",
       "0  one of the other reviewers has mentioned that ...  positive\n",
       "1  a wonderful little production the realism real...  positive\n",
       "2  i thought this was a wonderful way to spend ti...  positive\n",
       "3  basically there s a family where a little boy ...  negative\n",
       "4  petter mattei s love in the time of money is a...  positive"
      ]
     },
     "execution_count": 7,
     "metadata": {},
     "output_type": "execute_result"
    }
   ],
   "source": [
    "# Perform the function 'cleaner' on each row of the dataframe\n",
    "df2 = df.copy()\n",
    "df2['review'] = df2['review'].apply(cleaner)\n",
    "df2.head()"
   ]
  },
  {
   "cell_type": "markdown",
   "metadata": {},
   "source": [
    "LabelEncoder transforms 'positive' and 'negative' results from the sentiment column to 1 and 0, respectively."
   ]
  },
  {
   "cell_type": "code",
   "execution_count": 8,
   "metadata": {},
   "outputs": [
    {
     "data": {
      "text/html": [
       "<div>\n",
       "<style scoped>\n",
       "    .dataframe tbody tr th:only-of-type {\n",
       "        vertical-align: middle;\n",
       "    }\n",
       "\n",
       "    .dataframe tbody tr th {\n",
       "        vertical-align: top;\n",
       "    }\n",
       "\n",
       "    .dataframe thead th {\n",
       "        text-align: right;\n",
       "    }\n",
       "</style>\n",
       "<table border=\"1\" class=\"dataframe\">\n",
       "  <thead>\n",
       "    <tr style=\"text-align: right;\">\n",
       "      <th></th>\n",
       "      <th>review</th>\n",
       "      <th>sentiment</th>\n",
       "    </tr>\n",
       "  </thead>\n",
       "  <tbody>\n",
       "    <tr>\n",
       "      <th>0</th>\n",
       "      <td>one of the other reviewers has mentioned that ...</td>\n",
       "      <td>1</td>\n",
       "    </tr>\n",
       "    <tr>\n",
       "      <th>1</th>\n",
       "      <td>a wonderful little production the realism real...</td>\n",
       "      <td>1</td>\n",
       "    </tr>\n",
       "    <tr>\n",
       "      <th>2</th>\n",
       "      <td>i thought this was a wonderful way to spend ti...</td>\n",
       "      <td>1</td>\n",
       "    </tr>\n",
       "    <tr>\n",
       "      <th>3</th>\n",
       "      <td>basically there s a family where a little boy ...</td>\n",
       "      <td>0</td>\n",
       "    </tr>\n",
       "    <tr>\n",
       "      <th>4</th>\n",
       "      <td>petter mattei s love in the time of money is a...</td>\n",
       "      <td>1</td>\n",
       "    </tr>\n",
       "  </tbody>\n",
       "</table>\n",
       "</div>"
      ],
      "text/plain": [
       "                                              review  sentiment\n",
       "0  one of the other reviewers has mentioned that ...          1\n",
       "1  a wonderful little production the realism real...          1\n",
       "2  i thought this was a wonderful way to spend ti...          1\n",
       "3  basically there s a family where a little boy ...          0\n",
       "4  petter mattei s love in the time of money is a...          1"
      ]
     },
     "execution_count": 8,
     "metadata": {},
     "output_type": "execute_result"
    }
   ],
   "source": [
    "lb = LabelEncoder()\n",
    "df2['sentiment'] = lb.fit_transform(df2['sentiment']).astype('int')\n",
    "df2.head()"
   ]
  },
  {
   "cell_type": "markdown",
   "metadata": {},
   "source": [
    "Assign X as the input variable and Y as the output variable."
   ]
  },
  {
   "cell_type": "code",
   "execution_count": 9,
   "metadata": {},
   "outputs": [],
   "source": [
    "X = df2['review'] # This will serve as features\n",
    "Y = df2['sentiment']"
   ]
  },
  {
   "cell_type": "markdown",
   "metadata": {},
   "source": [
    "## Train and test data\n",
    "Split the dataset into train and test subsets. The default values of the partition between the train and test sets are used below, which are 0.75 and 0.25, respectively. The 'random_state' is set to 0 for reproducible results."
   ]
  },
  {
   "cell_type": "code",
   "execution_count": 10,
   "metadata": {},
   "outputs": [],
   "source": [
    "X_train, X_test, Y_train, Y_test = train_test_split(X, Y, random_state = 0, test_size = 0.2)"
   ]
  },
  {
   "cell_type": "markdown",
   "metadata": {},
   "source": [
    "## Vectorizer\n",
    "The Term Frequency Inverse Document Frequency or TF-IDF is used as the vectorizer. The basic idea is that high weights are given to words that appear frequently in a document but appear few in the corpus. Low weights are given to words that appear frequently in the corpus, this gives stop words less meaning. TF-IDF is more suitable for a large dataset like this one instead of the Count Vectorizer, since the latter only counts the number of times a word appears in a document.\n",
    "\n",
    "Set ngram_range is the range of sets of consecutive words. At the minimum, it captures single words, and at the maximum, it captures sets of 3 consecutive words.\n",
    "Min_df is the minimum number of times a word needs to appear in a document before it can be included in the corpus.\n",
    "Max_df is the maximum number of times a word needs to appear in a document before it can be included in the corpus.\n",
    "Strip_accents removes character accents from strings."
   ]
  },
  {
   "cell_type": "code",
   "execution_count": 11,
   "metadata": {},
   "outputs": [],
   "source": [
    "cv = TfidfVectorizer(ngram_range = (1, 3), min_df = 5, max_df = 0.2, stop_words = 'english', strip_accents = 'unicode')\n",
    "\n",
    "# Fit the vectorizer to the training set. Transform converts the words into a sparse matrix. \n",
    "# Any words that is in the test set that did not appeared in the train set will be ignored. \n",
    "X_train_vector = cv.fit_transform(X_train)"
   ]
  },
  {
   "cell_type": "markdown",
   "metadata": {},
   "source": [
    "## Baseline score\n",
    "A dummy classifier is used to have a baseline score. The default strategy is used, which is stratified, for the dummy classifier since the distribution of the positive and negative reviews are equal. The dummy classifier serves as a sanity check for the classifier that will be used to train and test the data."
   ]
  },
  {
   "cell_type": "code",
   "execution_count": 14,
   "metadata": {},
   "outputs": [],
   "source": [
    "cls_d = DummyClassifier(strategy = 'stratified') # Instantiate the dummy classifier\n",
    "cls_d.fit(X_train_vector, Y_train) # Train the model\n",
    "pred = cls_d.predict(cv.transform(X_test)) # Predict the test test data"
   ]
  },
  {
   "cell_type": "markdown",
   "metadata": {},
   "source": [
    "## Accuracy\n",
    "Accuracy is the evaluation metric used due to the fact that the data is balanced and it is easier to interpret compared to other evaluation metrics like ROC-AUC, F1 score, etc."
   ]
  },
  {
   "cell_type": "code",
   "execution_count": 15,
   "metadata": {},
   "outputs": [
    {
     "name": "stdout",
     "output_type": "stream",
     "text": [
      "Accuracy of Dummy Classifier is 50.90%\n"
     ]
    }
   ],
   "source": [
    "acc_dum = accuracy_score(Y_test, pred)\n",
    "print(f'Accuracy of Dummy Classifier is {(acc_dum * 100):.2f}%')"
   ]
  },
  {
   "cell_type": "markdown",
   "metadata": {},
   "source": [
    "## Classification\n",
    "The 3 most common classification for sentiment analysis are going to be evaluated against each other. The evaluation metric is accuracy."
   ]
  },
  {
   "source": [
    "## Logistic Regression"
   ],
   "cell_type": "markdown",
   "metadata": {}
  },
  {
   "cell_type": "markdown",
   "metadata": {},
   "source": [
    "#### Word cloud\n",
    "A word cloud is a data visualization tool that is a collection of words displayed in different sizes. The word with the biggest font has the highest weight given by the classifier, while a word with a small font only has a small weight."
   ]
  },
  {
   "source": [
    "#### Create a class for the classifier"
   ],
   "cell_type": "markdown",
   "metadata": {}
  },
  {
   "cell_type": "code",
   "execution_count": null,
   "metadata": {},
   "outputs": [],
   "source": [
    "class Classifier:\n",
    "    \n",
    "    def __init__(self, cls):\n",
    "        if cls == LogisticRegression:\n",
    "            self.pclf = 'Logistic Regression'\n",
    "        elif cls == MultinomialNB:\n",
    "            self.pclf = 'Multinomial Naive Bayes'\n",
    "        elif cls == LinearSVC:\n",
    "            self.pclf = 'Linear Support Vector Classifier'\n",
    "        else:\n",
    "            self.pclf = 'NOTA'\n",
    "        self.cls = cls\n",
    "    \n",
    "    def acc(self, x_train, y_train, x_test, y_test):\n",
    "        self.clf = self.cls()\n",
    "        self.clf.fit(x_train, y_train)\n",
    "        acc = self.clf.score(cv.transform(x_test), y_test)\n",
    "        return acc\n",
    "        \n",
    "    def wordc(self, cv):\n",
    "        # Top 10 positive words\n",
    "        pos = sorted(dict(zip(cv.get_feature_names(), self.clf.coef_[0])).items(), key = lambda x: x[1], reverse = True)\n",
    "        print(f'Positive words for {self.pclf}')\n",
    "        print(f'{pos[:10]}\\n')\n",
    "        \n",
    "        # Top 10 negative words\n",
    "        neg = sorted(dict(zip(cv.get_feature_names(), self.clf.coef_[0])).items(), key = lambda x: x[1], reverse = False)\n",
    "        #return acc, pos, neg\n",
    "        print(f'Negative words for {self.pclf}')\n",
    "        print(f'{neg[:10]}\\n')\n",
    "        \n",
    "        # Show the top 100 positive words using word cloud\n",
    "        wc_pos = WordCloud(width = 2000, height = 2000, background_color = 'black', colormap = 'Pastel1').generate_from_frequencies(dict(pos[:100]))\n",
    "        plt.figure(figsize = (10, 10))\n",
    "        plt.title(f'Positive Words for {self.pclf}', fontsize = 20)\n",
    "        plt.imshow(wc_pos)\n",
    "        plt.axis(False)\n",
    "        plt.show()\n",
    "\n",
    "        # Show the top 100 negative words using word cloud\n",
    "        wc_neg = WordCloud(width = 2000, height = 2000, background_color = 'black', colormap = 'Pastel1').generate_from_frequencies(dict(neg[:100]))\n",
    "        plt.figure(figsize = (10, 10))\n",
    "        plt.title(f'Negative Words for {self.pclf}', fontsize = 20)\n",
    "        plt.imshow(wc_neg)\n",
    "        plt.axis(False)\n",
    "        plt.show()"
   ]
  },
  {
   "cell_type": "code",
   "execution_count": 16,
   "metadata": {},
   "outputs": [
    {
     "name": "stdout",
     "output_type": "stream",
     "text": [
      "Accuracy of Logistic Regression is 85.93%\n"
     ]
    }
   ],
   "source": [
    "lr = Classifier(LogisticRegression)\n",
    "acc_lr = lr.acc(X_train_vector, Y_train, X_test, Y_test)\n",
    "print(f'Accuracy is {(acc_lr * 100):.2f}%\\n')\n",
    "lr.wordc(cv)"
   ]
  },
  {
   "cell_type": "markdown",
   "metadata": {},
   "source": [
    "## Multinomial Naive Bayes"
   ]
  },
  {
   "cell_type": "code",
   "execution_count": 17,
   "metadata": {},
   "outputs": [
    {
     "name": "stdout",
     "output_type": "stream",
     "text": [
      "Accuracy of Multinomial Naive Bayes is 85.00%\n"
     ]
    }
   ],
   "source": [
    "mnb = Classifier(MultinomialNB)\n",
    "acc_mnb = mnb.acc(X_train_vector, Y_train, X_test, Y_test)\n",
    "print(f'Accuracy is {(acc_mnb * 100):.2f}%\\n')\n",
    "mnb.wordc(cv)"
   ]
  },
  {
   "source": [
    "Strange. Most of the negative sentiments are adjectives except for Aaron Spelling. Multinomial NB seems to associate movies produced by Aaron Spelling as negative. Either the movies produced by Aaron Spelling are bad or the classifier is wrong."
   ],
   "cell_type": "markdown",
   "metadata": {}
  },
  {
   "cell_type": "markdown",
   "metadata": {},
   "source": [
    "## Linear Support Vector Classifier"
   ]
  },
  {
   "cell_type": "code",
   "execution_count": 18,
   "metadata": {},
   "outputs": [
    {
     "name": "stdout",
     "output_type": "stream",
     "text": [
      "Accuracy of Support Vector Classifier is 85.00%\n"
     ]
    }
   ],
   "source": [
    "lsvc = Classifier(LinearSVC)\n",
    "acc_lsvc = lsvc.acc(X_train_vector, Y_train, X_test, Y_test)\n",
    "print(f'Accuracy is {(acc_lsvc * 100):.2f}%\\n')\n",
    "lsvc.wordc(cv)"
   ]
  },
  {
   "source": [
    "## Bidirectional LSTM"
   ],
   "cell_type": "markdown",
   "metadata": {}
  },
  {
   "source": [
    "#### Setting up some hyperparameters"
   ],
   "cell_type": "markdown",
   "metadata": {}
  },
  {
   "cell_type": "code",
   "execution_count": null,
   "metadata": {},
   "outputs": [],
   "source": [
    "max_features = 5000 # Only consider the first 5000 words in the dataset\n",
    "embed_size = 64 # Maximum number of categories that groups words into a meaning\n",
    "max_length = 1000 # Only consider the first 1000 characters per sentence. \n",
    "# About 50% of the training data has a length of less than 1000 characters"
   ]
  },
  {
   "cell_type": "code",
   "execution_count": null,
   "metadata": {},
   "outputs": [],
   "source": [
    "# Plot the histogram of the length of each row\n",
    "plt.hist(X_train.apply(len).tolist(), bins = 'doane')"
   ]
  },
  {
   "source": [
    "The distribution of the length of the movie reviews is right tailed. Most of the data is concentrated approximately less than 2000 characters but we will only use 1000 for the maximum length because anything larger than that crashes the notebook."
   ],
   "cell_type": "markdown",
   "metadata": {}
  },
  {
   "cell_type": "code",
   "execution_count": null,
   "metadata": {},
   "outputs": [],
   "source": [
    "np.percentile(X_train.apply(len), 55)"
   ]
  },
  {
   "source": [
    "Approximately 55% of the length of the data is less than approximately 1000 characters."
   ],
   "cell_type": "markdown",
   "metadata": {}
  },
  {
   "source": [
    "### Tokenize the sentences"
   ],
   "cell_type": "markdown",
   "metadata": {}
  },
  {
   "cell_type": "code",
   "execution_count": null,
   "metadata": {},
   "outputs": [],
   "source": [
    "# Instantiate the tokenizer\n",
    "t = Tokenizer(num_words = max_features)\n",
    "\n",
    "# Fits the training texts\n",
    "t.fit_on_texts(list(X_train))\n",
    "\n",
    "# Transforms the texts to integers\n",
    "X_train_seq = t.texts_to_sequences(X_train)\n",
    "X_test_seq = t.texts_to_sequences(X_test)"
   ]
  },
  {
   "cell_type": "code",
   "execution_count": null,
   "metadata": {},
   "outputs": [],
   "source": [
    "# Shows the words included in the dataset. A lower index shows that the word appears frequently in the dataset\n",
    "t.word_index"
   ]
  },
  {
   "source": [
    "Obviously, stop words have low indices"
   ],
   "cell_type": "markdown",
   "metadata": {}
  },
  {
   "source": [
    "### Pad the sentences to have uniform length"
   ],
   "cell_type": "markdown",
   "metadata": {}
  },
  {
   "cell_type": "code",
   "execution_count": null,
   "metadata": {},
   "outputs": [],
   "source": [
    "X_train_pad = pad_sequences(X_train_seq, maxlen = max_length, padding='post')\n",
    "X_test_pad = pad_sequences(X_test_seq, maxlen = max_length, padding = 'post')\n",
    "\n",
    "print(f'The shape of the training dataset is {X_train_pad.shape}')\n",
    "print(f'The shape of the testing dataset is {X_test_pad.shape}')"
   ]
  },
  {
   "source": [
    "## Create the model\n",
    "The model is composed of two bidirectional LSTM hidden layers with 64 hidden units each. The model is terminated using a fully connected layer with a sigmoid activation. Word embeddings represents texts using vectors in a way where words with identical meaning are represented similarly. "
   ],
   "cell_type": "markdown",
   "metadata": {}
  },
  {
   "cell_type": "code",
   "execution_count": null,
   "metadata": {},
   "outputs": [],
   "source": [
    "model = Sequential()\n",
    "model.add(Embedding(max_features, embed_size, input_length = max_length))\n",
    "model.add(Bidirectional(LSTM(units = 64, kernel_regularizer = l2(0.001), recurrent_regularizer = l2(0.001))))\n",
    "model.add(Dense(units = 32, activation = 'relu'))\n",
    "model.add(Dropout(0.4))\n",
    "model.add(Dense(units = 1, activation = 'sigmoid'))\n",
    "\n",
    "model.compile(loss = 'binary_crossentropy', optimizer = 'adam', metrics = ['accuracy'])\n",
    "model.summary()"
   ]
  },
  {
   "source": [
    "### Callbacks\n",
    "The ModelCheckpoint callback is used in this model to save the best weights of the model. Early stopping stops the training of the model before the assigned epoch if the performance of the training set stops improving."
   ],
   "cell_type": "markdown",
   "metadata": {}
  },
  {
   "cell_type": "code",
   "execution_count": null,
   "metadata": {},
   "outputs": [],
   "source": [
    "cb = [EarlyStopping(patience = 4, monitor = 'val_loss', verbose = 1, restore_best_weights = True), \n",
    "      ModelCheckpoint('SentimentModel.h5', monitor = 'val_loss', save_best_only = True, verbose=1, save_weights_only=False, mode=\"min\")]"
   ]
  },
  {
   "source": [
    "### Fit the model"
   ],
   "cell_type": "markdown",
   "metadata": {}
  },
  {
   "cell_type": "code",
   "execution_count": null,
   "metadata": {},
   "outputs": [],
   "source": [
    "model_history = model.fit(X_train_pad, Y_train, callbacks = cb, batch_size = 256, epochs = 20, verbose = 1, validation_data = (X_test_pad, Y_test))"
   ]
  },
  {
   "source": [
    "### Test set evaluation"
   ],
   "cell_type": "markdown",
   "metadata": {}
  },
  {
   "cell_type": "code",
   "execution_count": null,
   "metadata": {},
   "outputs": [],
   "source": [
    "acc_model = model.evaluate(X_test_pad, Y_test)\n",
    "print(f'The model test accuracy is {(acc_model[1]*100):.2f}%')"
   ]
  },
  {
   "cell_type": "code",
   "execution_count": null,
   "metadata": {},
   "outputs": [],
   "source": []
  },
  {
   "cell_type": "code",
   "execution_count": null,
   "metadata": {},
   "outputs": [],
   "source": []
  },
  {
   "cell_type": "markdown",
   "metadata": {},
   "source": [
    "## Plot the accuracy"
   ]
  },
  {
   "cell_type": "markdown",
   "metadata": {},
   "source": [
    "#### Create a function for the accuracy comparison"
   ]
  },
  {
   "cell_type": "code",
   "execution_count": 19,
   "metadata": {},
   "outputs": [],
   "source": [
    "# Map the accuracy with the corresponding classifier\n",
    "label = ['Dummy Classifier (Baseline)', 'Logistic Regression', 'Multinomial Naive Bayes', 'Supper Vector Classifier']\n",
    "acc = [acc_dum, acc_lr, acc_nb, acc_svc]\n",
    "acc_dict = dict(zip(label, acc))"
   ]
  },
  {
   "cell_type": "code",
   "execution_count": 20,
   "metadata": {},
   "outputs": [],
   "source": [
    "def compare(di, metric):\n",
    "    y = [i for i in range(len(di))]\n",
    "        \n",
    "    for idx, val in enumerate(metric):\n",
    "        fig, ax = plt.subplots(dpi = 100, figsize = (6, 4))\n",
    "        ax.spines['right'].set_visible(False)\n",
    "        ax.spines['top'].set_visible(False)\n",
    "        ax.set_yticks(y)\n",
    "        ax.set_yticklabels(list(di.keys()))\n",
    "\n",
    "        for i in range(len(di)):\n",
    "            ax.text(list(di.values())[i] * 100, y[i], f'{(list(di.values())[i] * 100):.2f}%')\n",
    "            plt.barh(y[i], list(di.values())[i] * 100, height = 0.5, align = 'center')\n",
    "\n",
    "        plt.style.use('seaborn-muted')\n",
    "        plt.tick_params(axis='both', length = 0)\n",
    "        plt.suptitle(f'Test {val}', x = 0.51, y = 0.98)\n",
    "        plt.xlabel(f'% {val}')\n",
    "\n",
    "        if val == 'Loss':\n",
    "            plt.title('(Lower is better)', fontsize=10)\n",
    "        else:\n",
    "            plt.title('(Higher is better)', fontsize=10)\n",
    "\n",
    "        plt.show()   "
   ]
  },
  {
   "cell_type": "code",
   "execution_count": 21,
   "metadata": {},
   "outputs": [
    {
     "data": {
      "image/png": "[encoded data removed]",
      "text/plain": [
       "<Figure size 600x400 with 1 Axes>"
      ]
     },
     "metadata": {
      "needs_background": "light"
     },
     "output_type": "display_data"
    }
   ],
   "source": [
    "compare(acc_dict, metric =['Accuracy'])"
   ]
  },
  {
   "cell_type": "markdown",
   "metadata": {},
   "source": [
    "## Summary\n",
    "* Applied text preprocessing techniques to the dataset\n",
    "* Demonstrated sentiment analysis using Logistic Regression, Multinomial Naive Bayes, and Support Vector Classifier\n",
    "* Logistic Regression has the highest accuracy with 85.93%"
   ]
  },
  {
   "cell_type": "markdown",
   "metadata": {},
   "source": [
    "## Improvements"
   ]
  },
  {
   "cell_type": "markdown",
   "metadata": {},
   "source": [
    "* Tweak the hyperparameters of the machine learning algorithms\n",
    "* Use deep learning to classify the dataset"
   ]
  },
  {
   "cell_type": "code",
   "execution_count": null,
   "metadata": {},
   "outputs": [],
   "source": []
  }
 ],
 "metadata": {
  "kernelspec": {
   "display_name": "Python 3",
   "language": "python",
   "name": "python3"
  },
  "language_info": {
   "codemirror_mode": {
    "name": "ipython",
    "version": 3
   },
   "file_extension": ".py",
   "mimetype": "text/x-python",
   "name": "python",
   "nbconvert_exporter": "python",
   "pygments_lexer": "ipython3",
   "version": "3.8.5-final"
  }
 },
 "nbformat": 4,
 "nbformat_minor": 4
}